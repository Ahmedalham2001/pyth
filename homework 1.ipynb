{
 "cells": [
  {
   "cell_type": "code",
   "execution_count": 1,
   "metadata": {},
   "outputs": [
    {
     "name": "stdout",
     "output_type": "stream",
     "text": [
      "Hostname:  DESKTOP-G6BE4V8\n",
      "IP Address:  192.168.173.163\n"
     ]
    }
   ],
   "source": [
    "import socket\n",
    "def Hostinfo():\n",
    "# ahmed mustafa alhamrouni\n",
    "# ID 2191804661\n",
    "\n",
    "    # Get the hostname\n",
    "    hostname = socket.gethostname()\n",
    "    print(\"Hostname: \", hostname)\n",
    "\n",
    "    # Get the IP address\n",
    "    ip_address = socket.gethostbyname(hostname)\n",
    "    print(\"IP Address: \", ip_address)\n",
    "Hostinfo()\n",
    "\n",
    "# Call the function"
   ]
  }
 ],
 "metadata": {
  "kernelspec": {
   "display_name": "Python 3",
   "language": "python",
   "name": "python3"
  },
  "language_info": {
   "codemirror_mode": {
    "name": "ipython",
    "version": 3
   },
   "file_extension": ".py",
   "mimetype": "text/x-python",
   "name": "python",
   "nbconvert_exporter": "python",
   "pygments_lexer": "ipython3",
   "version": "3.11.4"
  },
  "orig_nbformat": 4
 },
 "nbformat": 4,
 "nbformat_minor": 2
}
